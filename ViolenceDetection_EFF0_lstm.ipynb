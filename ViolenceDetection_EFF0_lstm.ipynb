{
  "nbformat": 4,
  "nbformat_minor": 0,
  "metadata": {
    "colab": {
      "name": "ViolenceDetection_EFF0_lstm.ipynb",
      "provenance": [],
      "collapsed_sections": [],
      "authorship_tag": "ABX9TyNJWaU6DcBDChCcQE8R+pni"
    },
    "kernelspec": {
      "name": "python3",
      "display_name": "Python 3"
    },
    "language_info": {
      "name": "python"
    },
    "accelerator": "TPU",
    "widgets": {
      "application/vnd.jupyter.widget-state+json": {
        "bc85cc25acf4492da0f442006cca199c": {
          "model_module": "@jupyter-widgets/controls",
          "model_name": "HBoxModel",
          "state": {
            "_view_name": "HBoxView",
            "_dom_classes": [],
            "_model_name": "HBoxModel",
            "_view_module": "@jupyter-widgets/controls",
            "_model_module_version": "1.5.0",
            "_view_count": null,
            "_view_module_version": "1.5.0",
            "box_style": "",
            "layout": "IPY_MODEL_815b5d473f2e4a0db8a99f468656072d",
            "_model_module": "@jupyter-widgets/controls",
            "children": [
              "IPY_MODEL_36025870375648998b090a4ec2cd7ab3",
              "IPY_MODEL_1bb0ec5237644bf6b1cddafe5f1495ef"
            ]
          }
        },
        "815b5d473f2e4a0db8a99f468656072d": {
          "model_module": "@jupyter-widgets/base",
          "model_name": "LayoutModel",
          "state": {
            "_view_name": "LayoutView",
            "grid_template_rows": null,
            "right": null,
            "justify_content": null,
            "_view_module": "@jupyter-widgets/base",
            "overflow": null,
            "_model_module_version": "1.2.0",
            "_view_count": null,
            "flex_flow": null,
            "width": null,
            "min_width": null,
            "border": null,
            "align_items": null,
            "bottom": null,
            "_model_module": "@jupyter-widgets/base",
            "top": null,
            "grid_column": null,
            "overflow_y": null,
            "overflow_x": null,
            "grid_auto_flow": null,
            "grid_area": null,
            "grid_template_columns": null,
            "flex": null,
            "_model_name": "LayoutModel",
            "justify_items": null,
            "grid_row": null,
            "max_height": null,
            "align_content": null,
            "visibility": null,
            "align_self": null,
            "height": null,
            "min_height": null,
            "padding": null,
            "grid_auto_rows": null,
            "grid_gap": null,
            "max_width": null,
            "order": null,
            "_view_module_version": "1.2.0",
            "grid_template_areas": null,
            "object_position": null,
            "object_fit": null,
            "grid_auto_columns": null,
            "margin": null,
            "display": null,
            "left": null
          }
        },
        "36025870375648998b090a4ec2cd7ab3": {
          "model_module": "@jupyter-widgets/controls",
          "model_name": "FloatProgressModel",
          "state": {
            "_view_name": "ProgressView",
            "style": "IPY_MODEL_d679f134c87541bbae364de5c9fdd6cc",
            "_dom_classes": [],
            "description": "100%",
            "_model_name": "FloatProgressModel",
            "bar_style": "success",
            "max": 1000,
            "_view_module": "@jupyter-widgets/controls",
            "_model_module_version": "1.5.0",
            "value": 1000,
            "_view_count": null,
            "_view_module_version": "1.5.0",
            "orientation": "horizontal",
            "min": 0,
            "description_tooltip": null,
            "_model_module": "@jupyter-widgets/controls",
            "layout": "IPY_MODEL_6139750fb5454880a0d0d0e18788e315"
          }
        },
        "1bb0ec5237644bf6b1cddafe5f1495ef": {
          "model_module": "@jupyter-widgets/controls",
          "model_name": "HTMLModel",
          "state": {
            "_view_name": "HTMLView",
            "style": "IPY_MODEL_8f981261580e4b3680fc4f59f57e9a60",
            "_dom_classes": [],
            "description": "",
            "_model_name": "HTMLModel",
            "placeholder": "​",
            "_view_module": "@jupyter-widgets/controls",
            "_model_module_version": "1.5.0",
            "value": " 1000/1000 [00:27&lt;00:00, 36.20it/s]",
            "_view_count": null,
            "_view_module_version": "1.5.0",
            "description_tooltip": null,
            "_model_module": "@jupyter-widgets/controls",
            "layout": "IPY_MODEL_c9538cef68e4461daf2af9a5d9c8e9d3"
          }
        },
        "d679f134c87541bbae364de5c9fdd6cc": {
          "model_module": "@jupyter-widgets/controls",
          "model_name": "ProgressStyleModel",
          "state": {
            "_view_name": "StyleView",
            "_model_name": "ProgressStyleModel",
            "description_width": "initial",
            "_view_module": "@jupyter-widgets/base",
            "_model_module_version": "1.5.0",
            "_view_count": null,
            "_view_module_version": "1.2.0",
            "bar_color": null,
            "_model_module": "@jupyter-widgets/controls"
          }
        },
        "6139750fb5454880a0d0d0e18788e315": {
          "model_module": "@jupyter-widgets/base",
          "model_name": "LayoutModel",
          "state": {
            "_view_name": "LayoutView",
            "grid_template_rows": null,
            "right": null,
            "justify_content": null,
            "_view_module": "@jupyter-widgets/base",
            "overflow": null,
            "_model_module_version": "1.2.0",
            "_view_count": null,
            "flex_flow": null,
            "width": null,
            "min_width": null,
            "border": null,
            "align_items": null,
            "bottom": null,
            "_model_module": "@jupyter-widgets/base",
            "top": null,
            "grid_column": null,
            "overflow_y": null,
            "overflow_x": null,
            "grid_auto_flow": null,
            "grid_area": null,
            "grid_template_columns": null,
            "flex": null,
            "_model_name": "LayoutModel",
            "justify_items": null,
            "grid_row": null,
            "max_height": null,
            "align_content": null,
            "visibility": null,
            "align_self": null,
            "height": null,
            "min_height": null,
            "padding": null,
            "grid_auto_rows": null,
            "grid_gap": null,
            "max_width": null,
            "order": null,
            "_view_module_version": "1.2.0",
            "grid_template_areas": null,
            "object_position": null,
            "object_fit": null,
            "grid_auto_columns": null,
            "margin": null,
            "display": null,
            "left": null
          }
        },
        "8f981261580e4b3680fc4f59f57e9a60": {
          "model_module": "@jupyter-widgets/controls",
          "model_name": "DescriptionStyleModel",
          "state": {
            "_view_name": "StyleView",
            "_model_name": "DescriptionStyleModel",
            "description_width": "",
            "_view_module": "@jupyter-widgets/base",
            "_model_module_version": "1.5.0",
            "_view_count": null,
            "_view_module_version": "1.2.0",
            "_model_module": "@jupyter-widgets/controls"
          }
        },
        "c9538cef68e4461daf2af9a5d9c8e9d3": {
          "model_module": "@jupyter-widgets/base",
          "model_name": "LayoutModel",
          "state": {
            "_view_name": "LayoutView",
            "grid_template_rows": null,
            "right": null,
            "justify_content": null,
            "_view_module": "@jupyter-widgets/base",
            "overflow": null,
            "_model_module_version": "1.2.0",
            "_view_count": null,
            "flex_flow": null,
            "width": null,
            "min_width": null,
            "border": null,
            "align_items": null,
            "bottom": null,
            "_model_module": "@jupyter-widgets/base",
            "top": null,
            "grid_column": null,
            "overflow_y": null,
            "overflow_x": null,
            "grid_auto_flow": null,
            "grid_area": null,
            "grid_template_columns": null,
            "flex": null,
            "_model_name": "LayoutModel",
            "justify_items": null,
            "grid_row": null,
            "max_height": null,
            "align_content": null,
            "visibility": null,
            "align_self": null,
            "height": null,
            "min_height": null,
            "padding": null,
            "grid_auto_rows": null,
            "grid_gap": null,
            "max_width": null,
            "order": null,
            "_view_module_version": "1.2.0",
            "grid_template_areas": null,
            "object_position": null,
            "object_fit": null,
            "grid_auto_columns": null,
            "margin": null,
            "display": null,
            "left": null
          }
        },
        "1cb43a3d5081462e94e6303ce727b4cf": {
          "model_module": "@jupyter-widgets/controls",
          "model_name": "HBoxModel",
          "state": {
            "_view_name": "HBoxView",
            "_dom_classes": [],
            "_model_name": "HBoxModel",
            "_view_module": "@jupyter-widgets/controls",
            "_model_module_version": "1.5.0",
            "_view_count": null,
            "_view_module_version": "1.5.0",
            "box_style": "",
            "layout": "IPY_MODEL_0120a2a8c7434bd1a658a3c3a830daeb",
            "_model_module": "@jupyter-widgets/controls",
            "children": [
              "IPY_MODEL_8f8df40be52b4d118aded24b294eb2d9",
              "IPY_MODEL_6ae03d36c1bb4e32b2fa80a51c36fc02"
            ]
          }
        },
        "0120a2a8c7434bd1a658a3c3a830daeb": {
          "model_module": "@jupyter-widgets/base",
          "model_name": "LayoutModel",
          "state": {
            "_view_name": "LayoutView",
            "grid_template_rows": null,
            "right": null,
            "justify_content": null,
            "_view_module": "@jupyter-widgets/base",
            "overflow": null,
            "_model_module_version": "1.2.0",
            "_view_count": null,
            "flex_flow": null,
            "width": null,
            "min_width": null,
            "border": null,
            "align_items": null,
            "bottom": null,
            "_model_module": "@jupyter-widgets/base",
            "top": null,
            "grid_column": null,
            "overflow_y": null,
            "overflow_x": null,
            "grid_auto_flow": null,
            "grid_area": null,
            "grid_template_columns": null,
            "flex": null,
            "_model_name": "LayoutModel",
            "justify_items": null,
            "grid_row": null,
            "max_height": null,
            "align_content": null,
            "visibility": null,
            "align_self": null,
            "height": null,
            "min_height": null,
            "padding": null,
            "grid_auto_rows": null,
            "grid_gap": null,
            "max_width": null,
            "order": null,
            "_view_module_version": "1.2.0",
            "grid_template_areas": null,
            "object_position": null,
            "object_fit": null,
            "grid_auto_columns": null,
            "margin": null,
            "display": null,
            "left": null
          }
        },
        "8f8df40be52b4d118aded24b294eb2d9": {
          "model_module": "@jupyter-widgets/controls",
          "model_name": "FloatProgressModel",
          "state": {
            "_view_name": "ProgressView",
            "style": "IPY_MODEL_4a7753acceb94228a78fc45e047a4dd8",
            "_dom_classes": [],
            "description": "100%",
            "_model_name": "FloatProgressModel",
            "bar_style": "success",
            "max": 1000,
            "_view_module": "@jupyter-widgets/controls",
            "_model_module_version": "1.5.0",
            "value": 1000,
            "_view_count": null,
            "_view_module_version": "1.5.0",
            "orientation": "horizontal",
            "min": 0,
            "description_tooltip": null,
            "_model_module": "@jupyter-widgets/controls",
            "layout": "IPY_MODEL_7e686b28a2ed47ff9616c9d08957a283"
          }
        },
        "6ae03d36c1bb4e32b2fa80a51c36fc02": {
          "model_module": "@jupyter-widgets/controls",
          "model_name": "HTMLModel",
          "state": {
            "_view_name": "HTMLView",
            "style": "IPY_MODEL_6d90fabd5f364bbdb22e5a4f432edf87",
            "_dom_classes": [],
            "description": "",
            "_model_name": "HTMLModel",
            "placeholder": "​",
            "_view_module": "@jupyter-widgets/controls",
            "_model_module_version": "1.5.0",
            "value": " 1000/1000 [00:12&lt;00:00, 77.05it/s]",
            "_view_count": null,
            "_view_module_version": "1.5.0",
            "description_tooltip": null,
            "_model_module": "@jupyter-widgets/controls",
            "layout": "IPY_MODEL_4afc78c465a646bc972b4c7b6d8f8d75"
          }
        },
        "4a7753acceb94228a78fc45e047a4dd8": {
          "model_module": "@jupyter-widgets/controls",
          "model_name": "ProgressStyleModel",
          "state": {
            "_view_name": "StyleView",
            "_model_name": "ProgressStyleModel",
            "description_width": "initial",
            "_view_module": "@jupyter-widgets/base",
            "_model_module_version": "1.5.0",
            "_view_count": null,
            "_view_module_version": "1.2.0",
            "bar_color": null,
            "_model_module": "@jupyter-widgets/controls"
          }
        },
        "7e686b28a2ed47ff9616c9d08957a283": {
          "model_module": "@jupyter-widgets/base",
          "model_name": "LayoutModel",
          "state": {
            "_view_name": "LayoutView",
            "grid_template_rows": null,
            "right": null,
            "justify_content": null,
            "_view_module": "@jupyter-widgets/base",
            "overflow": null,
            "_model_module_version": "1.2.0",
            "_view_count": null,
            "flex_flow": null,
            "width": null,
            "min_width": null,
            "border": null,
            "align_items": null,
            "bottom": null,
            "_model_module": "@jupyter-widgets/base",
            "top": null,
            "grid_column": null,
            "overflow_y": null,
            "overflow_x": null,
            "grid_auto_flow": null,
            "grid_area": null,
            "grid_template_columns": null,
            "flex": null,
            "_model_name": "LayoutModel",
            "justify_items": null,
            "grid_row": null,
            "max_height": null,
            "align_content": null,
            "visibility": null,
            "align_self": null,
            "height": null,
            "min_height": null,
            "padding": null,
            "grid_auto_rows": null,
            "grid_gap": null,
            "max_width": null,
            "order": null,
            "_view_module_version": "1.2.0",
            "grid_template_areas": null,
            "object_position": null,
            "object_fit": null,
            "grid_auto_columns": null,
            "margin": null,
            "display": null,
            "left": null
          }
        },
        "6d90fabd5f364bbdb22e5a4f432edf87": {
          "model_module": "@jupyter-widgets/controls",
          "model_name": "DescriptionStyleModel",
          "state": {
            "_view_name": "StyleView",
            "_model_name": "DescriptionStyleModel",
            "description_width": "",
            "_view_module": "@jupyter-widgets/base",
            "_model_module_version": "1.5.0",
            "_view_count": null,
            "_view_module_version": "1.2.0",
            "_model_module": "@jupyter-widgets/controls"
          }
        },
        "4afc78c465a646bc972b4c7b6d8f8d75": {
          "model_module": "@jupyter-widgets/base",
          "model_name": "LayoutModel",
          "state": {
            "_view_name": "LayoutView",
            "grid_template_rows": null,
            "right": null,
            "justify_content": null,
            "_view_module": "@jupyter-widgets/base",
            "overflow": null,
            "_model_module_version": "1.2.0",
            "_view_count": null,
            "flex_flow": null,
            "width": null,
            "min_width": null,
            "border": null,
            "align_items": null,
            "bottom": null,
            "_model_module": "@jupyter-widgets/base",
            "top": null,
            "grid_column": null,
            "overflow_y": null,
            "overflow_x": null,
            "grid_auto_flow": null,
            "grid_area": null,
            "grid_template_columns": null,
            "flex": null,
            "_model_name": "LayoutModel",
            "justify_items": null,
            "grid_row": null,
            "max_height": null,
            "align_content": null,
            "visibility": null,
            "align_self": null,
            "height": null,
            "min_height": null,
            "padding": null,
            "grid_auto_rows": null,
            "grid_gap": null,
            "max_width": null,
            "order": null,
            "_view_module_version": "1.2.0",
            "grid_template_areas": null,
            "object_position": null,
            "object_fit": null,
            "grid_auto_columns": null,
            "margin": null,
            "display": null,
            "left": null
          }
        },
        "e1b266d5fb89494283ae3455d5f760e8": {
          "model_module": "@jupyter-widgets/controls",
          "model_name": "HBoxModel",
          "state": {
            "_view_name": "HBoxView",
            "_dom_classes": [],
            "_model_name": "HBoxModel",
            "_view_module": "@jupyter-widgets/controls",
            "_model_module_version": "1.5.0",
            "_view_count": null,
            "_view_module_version": "1.5.0",
            "box_style": "",
            "layout": "IPY_MODEL_567a55743a104802a3a66ebde24e6293",
            "_model_module": "@jupyter-widgets/controls",
            "children": [
              "IPY_MODEL_32014b6f39f04801aa108fb492c9a08f",
              "IPY_MODEL_80ba52fc5c9241e3a4e1382f0a741da4"
            ]
          }
        },
        "567a55743a104802a3a66ebde24e6293": {
          "model_module": "@jupyter-widgets/base",
          "model_name": "LayoutModel",
          "state": {
            "_view_name": "LayoutView",
            "grid_template_rows": null,
            "right": null,
            "justify_content": null,
            "_view_module": "@jupyter-widgets/base",
            "overflow": null,
            "_model_module_version": "1.2.0",
            "_view_count": null,
            "flex_flow": null,
            "width": null,
            "min_width": null,
            "border": null,
            "align_items": null,
            "bottom": null,
            "_model_module": "@jupyter-widgets/base",
            "top": null,
            "grid_column": null,
            "overflow_y": null,
            "overflow_x": null,
            "grid_auto_flow": null,
            "grid_area": null,
            "grid_template_columns": null,
            "flex": null,
            "_model_name": "LayoutModel",
            "justify_items": null,
            "grid_row": null,
            "max_height": null,
            "align_content": null,
            "visibility": null,
            "align_self": null,
            "height": null,
            "min_height": null,
            "padding": null,
            "grid_auto_rows": null,
            "grid_gap": null,
            "max_width": null,
            "order": null,
            "_view_module_version": "1.2.0",
            "grid_template_areas": null,
            "object_position": null,
            "object_fit": null,
            "grid_auto_columns": null,
            "margin": null,
            "display": null,
            "left": null
          }
        },
        "32014b6f39f04801aa108fb492c9a08f": {
          "model_module": "@jupyter-widgets/controls",
          "model_name": "FloatProgressModel",
          "state": {
            "_view_name": "ProgressView",
            "style": "IPY_MODEL_30abe6f2ebd84300b61376e375322824",
            "_dom_classes": [],
            "description": "100%",
            "_model_name": "FloatProgressModel",
            "bar_style": "success",
            "max": 2000,
            "_view_module": "@jupyter-widgets/controls",
            "_model_module_version": "1.5.0",
            "value": 2000,
            "_view_count": null,
            "_view_module_version": "1.5.0",
            "orientation": "horizontal",
            "min": 0,
            "description_tooltip": null,
            "_model_module": "@jupyter-widgets/controls",
            "layout": "IPY_MODEL_3ff79b1e88d644f28c017e2de1208754"
          }
        },
        "80ba52fc5c9241e3a4e1382f0a741da4": {
          "model_module": "@jupyter-widgets/controls",
          "model_name": "HTMLModel",
          "state": {
            "_view_name": "HTMLView",
            "style": "IPY_MODEL_90511dcb94764b52a7945b1a639a8956",
            "_dom_classes": [],
            "description": "",
            "_model_name": "HTMLModel",
            "placeholder": "​",
            "_view_module": "@jupyter-widgets/controls",
            "_model_module_version": "1.5.0",
            "value": " 2000/2000 [1:09:35&lt;00:00,  2.09s/it]",
            "_view_count": null,
            "_view_module_version": "1.5.0",
            "description_tooltip": null,
            "_model_module": "@jupyter-widgets/controls",
            "layout": "IPY_MODEL_e94614c0e9644d3082859d9edd9742a2"
          }
        },
        "30abe6f2ebd84300b61376e375322824": {
          "model_module": "@jupyter-widgets/controls",
          "model_name": "ProgressStyleModel",
          "state": {
            "_view_name": "StyleView",
            "_model_name": "ProgressStyleModel",
            "description_width": "initial",
            "_view_module": "@jupyter-widgets/base",
            "_model_module_version": "1.5.0",
            "_view_count": null,
            "_view_module_version": "1.2.0",
            "bar_color": null,
            "_model_module": "@jupyter-widgets/controls"
          }
        },
        "3ff79b1e88d644f28c017e2de1208754": {
          "model_module": "@jupyter-widgets/base",
          "model_name": "LayoutModel",
          "state": {
            "_view_name": "LayoutView",
            "grid_template_rows": null,
            "right": null,
            "justify_content": null,
            "_view_module": "@jupyter-widgets/base",
            "overflow": null,
            "_model_module_version": "1.2.0",
            "_view_count": null,
            "flex_flow": null,
            "width": null,
            "min_width": null,
            "border": null,
            "align_items": null,
            "bottom": null,
            "_model_module": "@jupyter-widgets/base",
            "top": null,
            "grid_column": null,
            "overflow_y": null,
            "overflow_x": null,
            "grid_auto_flow": null,
            "grid_area": null,
            "grid_template_columns": null,
            "flex": null,
            "_model_name": "LayoutModel",
            "justify_items": null,
            "grid_row": null,
            "max_height": null,
            "align_content": null,
            "visibility": null,
            "align_self": null,
            "height": null,
            "min_height": null,
            "padding": null,
            "grid_auto_rows": null,
            "grid_gap": null,
            "max_width": null,
            "order": null,
            "_view_module_version": "1.2.0",
            "grid_template_areas": null,
            "object_position": null,
            "object_fit": null,
            "grid_auto_columns": null,
            "margin": null,
            "display": null,
            "left": null
          }
        },
        "90511dcb94764b52a7945b1a639a8956": {
          "model_module": "@jupyter-widgets/controls",
          "model_name": "DescriptionStyleModel",
          "state": {
            "_view_name": "StyleView",
            "_model_name": "DescriptionStyleModel",
            "description_width": "",
            "_view_module": "@jupyter-widgets/base",
            "_model_module_version": "1.5.0",
            "_view_count": null,
            "_view_module_version": "1.2.0",
            "_model_module": "@jupyter-widgets/controls"
          }
        },
        "e94614c0e9644d3082859d9edd9742a2": {
          "model_module": "@jupyter-widgets/base",
          "model_name": "LayoutModel",
          "state": {
            "_view_name": "LayoutView",
            "grid_template_rows": null,
            "right": null,
            "justify_content": null,
            "_view_module": "@jupyter-widgets/base",
            "overflow": null,
            "_model_module_version": "1.2.0",
            "_view_count": null,
            "flex_flow": null,
            "width": null,
            "min_width": null,
            "border": null,
            "align_items": null,
            "bottom": null,
            "_model_module": "@jupyter-widgets/base",
            "top": null,
            "grid_column": null,
            "overflow_y": null,
            "overflow_x": null,
            "grid_auto_flow": null,
            "grid_area": null,
            "grid_template_columns": null,
            "flex": null,
            "_model_name": "LayoutModel",
            "justify_items": null,
            "grid_row": null,
            "max_height": null,
            "align_content": null,
            "visibility": null,
            "align_self": null,
            "height": null,
            "min_height": null,
            "padding": null,
            "grid_auto_rows": null,
            "grid_gap": null,
            "max_width": null,
            "order": null,
            "_view_module_version": "1.2.0",
            "grid_template_areas": null,
            "object_position": null,
            "object_fit": null,
            "grid_auto_columns": null,
            "margin": null,
            "display": null,
            "left": null
          }
        },
        "f9254aa318b443429c148bad5842d28c": {
          "model_module": "@jupyter-widgets/controls",
          "model_name": "HBoxModel",
          "state": {
            "_view_name": "HBoxView",
            "_dom_classes": [],
            "_model_name": "HBoxModel",
            "_view_module": "@jupyter-widgets/controls",
            "_model_module_version": "1.5.0",
            "_view_count": null,
            "_view_module_version": "1.5.0",
            "box_style": "",
            "layout": "IPY_MODEL_744025be3ab6461faf4daf5415dc1e88",
            "_model_module": "@jupyter-widgets/controls",
            "children": [
              "IPY_MODEL_eb0fa63161004552a1c4f340922b797a",
              "IPY_MODEL_22feeca419c54cb382b6adc9a0552e18"
            ]
          }
        },
        "744025be3ab6461faf4daf5415dc1e88": {
          "model_module": "@jupyter-widgets/base",
          "model_name": "LayoutModel",
          "state": {
            "_view_name": "LayoutView",
            "grid_template_rows": null,
            "right": null,
            "justify_content": null,
            "_view_module": "@jupyter-widgets/base",
            "overflow": null,
            "_model_module_version": "1.2.0",
            "_view_count": null,
            "flex_flow": null,
            "width": null,
            "min_width": null,
            "border": null,
            "align_items": null,
            "bottom": null,
            "_model_module": "@jupyter-widgets/base",
            "top": null,
            "grid_column": null,
            "overflow_y": null,
            "overflow_x": null,
            "grid_auto_flow": null,
            "grid_area": null,
            "grid_template_columns": null,
            "flex": null,
            "_model_name": "LayoutModel",
            "justify_items": null,
            "grid_row": null,
            "max_height": null,
            "align_content": null,
            "visibility": null,
            "align_self": null,
            "height": null,
            "min_height": null,
            "padding": null,
            "grid_auto_rows": null,
            "grid_gap": null,
            "max_width": null,
            "order": null,
            "_view_module_version": "1.2.0",
            "grid_template_areas": null,
            "object_position": null,
            "object_fit": null,
            "grid_auto_columns": null,
            "margin": null,
            "display": null,
            "left": null
          }
        },
        "eb0fa63161004552a1c4f340922b797a": {
          "model_module": "@jupyter-widgets/controls",
          "model_name": "FloatProgressModel",
          "state": {
            "_view_name": "ProgressView",
            "style": "IPY_MODEL_cf88533b2f54457e869eec4cec30c4be",
            "_dom_classes": [],
            "description": "100%",
            "_model_name": "FloatProgressModel",
            "bar_style": "success",
            "max": 2000,
            "_view_module": "@jupyter-widgets/controls",
            "_model_module_version": "1.5.0",
            "value": 2000,
            "_view_count": null,
            "_view_module_version": "1.5.0",
            "orientation": "horizontal",
            "min": 0,
            "description_tooltip": null,
            "_model_module": "@jupyter-widgets/controls",
            "layout": "IPY_MODEL_58b0cdb25556451383b9eae9100e491a"
          }
        },
        "22feeca419c54cb382b6adc9a0552e18": {
          "model_module": "@jupyter-widgets/controls",
          "model_name": "HTMLModel",
          "state": {
            "_view_name": "HTMLView",
            "style": "IPY_MODEL_839698c6da0847e796436f3330156c00",
            "_dom_classes": [],
            "description": "",
            "_model_name": "HTMLModel",
            "placeholder": "​",
            "_view_module": "@jupyter-widgets/controls",
            "_model_module_version": "1.5.0",
            "value": " 2000/2000 [01:58&lt;00:00, 16.92it/s]",
            "_view_count": null,
            "_view_module_version": "1.5.0",
            "description_tooltip": null,
            "_model_module": "@jupyter-widgets/controls",
            "layout": "IPY_MODEL_3b8aa5d05f8643cf9ba09880fc35edfd"
          }
        },
        "cf88533b2f54457e869eec4cec30c4be": {
          "model_module": "@jupyter-widgets/controls",
          "model_name": "ProgressStyleModel",
          "state": {
            "_view_name": "StyleView",
            "_model_name": "ProgressStyleModel",
            "description_width": "initial",
            "_view_module": "@jupyter-widgets/base",
            "_model_module_version": "1.5.0",
            "_view_count": null,
            "_view_module_version": "1.2.0",
            "bar_color": null,
            "_model_module": "@jupyter-widgets/controls"
          }
        },
        "58b0cdb25556451383b9eae9100e491a": {
          "model_module": "@jupyter-widgets/base",
          "model_name": "LayoutModel",
          "state": {
            "_view_name": "LayoutView",
            "grid_template_rows": null,
            "right": null,
            "justify_content": null,
            "_view_module": "@jupyter-widgets/base",
            "overflow": null,
            "_model_module_version": "1.2.0",
            "_view_count": null,
            "flex_flow": null,
            "width": null,
            "min_width": null,
            "border": null,
            "align_items": null,
            "bottom": null,
            "_model_module": "@jupyter-widgets/base",
            "top": null,
            "grid_column": null,
            "overflow_y": null,
            "overflow_x": null,
            "grid_auto_flow": null,
            "grid_area": null,
            "grid_template_columns": null,
            "flex": null,
            "_model_name": "LayoutModel",
            "justify_items": null,
            "grid_row": null,
            "max_height": null,
            "align_content": null,
            "visibility": null,
            "align_self": null,
            "height": null,
            "min_height": null,
            "padding": null,
            "grid_auto_rows": null,
            "grid_gap": null,
            "max_width": null,
            "order": null,
            "_view_module_version": "1.2.0",
            "grid_template_areas": null,
            "object_position": null,
            "object_fit": null,
            "grid_auto_columns": null,
            "margin": null,
            "display": null,
            "left": null
          }
        },
        "839698c6da0847e796436f3330156c00": {
          "model_module": "@jupyter-widgets/controls",
          "model_name": "DescriptionStyleModel",
          "state": {
            "_view_name": "StyleView",
            "_model_name": "DescriptionStyleModel",
            "description_width": "",
            "_view_module": "@jupyter-widgets/base",
            "_model_module_version": "1.5.0",
            "_view_count": null,
            "_view_module_version": "1.2.0",
            "_model_module": "@jupyter-widgets/controls"
          }
        },
        "3b8aa5d05f8643cf9ba09880fc35edfd": {
          "model_module": "@jupyter-widgets/base",
          "model_name": "LayoutModel",
          "state": {
            "_view_name": "LayoutView",
            "grid_template_rows": null,
            "right": null,
            "justify_content": null,
            "_view_module": "@jupyter-widgets/base",
            "overflow": null,
            "_model_module_version": "1.2.0",
            "_view_count": null,
            "flex_flow": null,
            "width": null,
            "min_width": null,
            "border": null,
            "align_items": null,
            "bottom": null,
            "_model_module": "@jupyter-widgets/base",
            "top": null,
            "grid_column": null,
            "overflow_y": null,
            "overflow_x": null,
            "grid_auto_flow": null,
            "grid_area": null,
            "grid_template_columns": null,
            "flex": null,
            "_model_name": "LayoutModel",
            "justify_items": null,
            "grid_row": null,
            "max_height": null,
            "align_content": null,
            "visibility": null,
            "align_self": null,
            "height": null,
            "min_height": null,
            "padding": null,
            "grid_auto_rows": null,
            "grid_gap": null,
            "max_width": null,
            "order": null,
            "_view_module_version": "1.2.0",
            "grid_template_areas": null,
            "object_position": null,
            "object_fit": null,
            "grid_auto_columns": null,
            "margin": null,
            "display": null,
            "left": null
          }
        }
      }
    }
  },
  "cells": [
    {
      "cell_type": "code",
      "metadata": {
        "id": "GXx0mad7j3iz"
      },
      "source": [
        "!unzip rs80.zip\n",
        "!mkdir extra\n",
        "!rm rs80.zip"
      ],
      "execution_count": null,
      "outputs": []
    },
    {
      "cell_type": "code",
      "metadata": {
        "id": "xZQlWkmrko0j"
      },
      "source": [
        "from tensorflow.keras.applications import VGG19\n",
        "from tensorflow import keras\n",
        "from tensorflow.keras.layers import Input\n",
        "import tensorflow as tf\n",
        "\n",
        "from sklearn.model_selection import train_test_split\n",
        "from sklearn.metrics import classification_report\n",
        "\n",
        "import matplotlib.pyplot as plt\n",
        "import numpy as np\n",
        "import cv2 as cv\n",
        "import os\n",
        "\n",
        "from tqdm.notebook import tqdm"
      ],
      "execution_count": 3,
      "outputs": []
    },
    {
      "cell_type": "code",
      "metadata": {
        "id": "7pOFC3O7g3wB"
      },
      "source": [
        "def video_reader(x, end_frame=100):\n",
        "  cap = cv.VideoCapture(x)\n",
        "  output = []\n",
        "  frame_num = 0\n",
        "  while True:\n",
        "    ret, frame = cap.read()\n",
        "    if (ret == None) or (frame_num == end_frame):\n",
        "      break\n",
        "    \n",
        "    output.append(frame)\n",
        "    frame_num += 1\n",
        "\n",
        "  # Take every 3rd frame\n",
        "  idxs = list(range(0, 100, 3))\n",
        "  output = np.array(output)\n",
        "  output = output[idxs]\n",
        "  return output"
      ],
      "execution_count": 4,
      "outputs": []
    },
    {
      "cell_type": "code",
      "metadata": {
        "id": "NbEfJzPTg6ks"
      },
      "source": [
        "# Data Loader\n",
        "class ViolenceDataset():\n",
        "  NVIO = \"/content/rs80/non_violence\"\n",
        "  VIO = \"/content/rs80/violence\"\n",
        "  LABELS = {NVIO : 0, VIO : 1}\n",
        "\n",
        "  training_data = []\n",
        "  viocount = 0\n",
        "  nviocount = 0\n",
        "\n",
        "  # Training set maker func\n",
        "  def training_maker(self):\n",
        "    # Loop over each label\n",
        "    for label in self.LABELS:\n",
        "      print(label)\n",
        "      # Loop over label folder\n",
        "      for f in tqdm(os.listdir(label)):\n",
        "        try:\n",
        "          path = os.path.join(label, f)\n",
        "          # Video reader\n",
        "          vid = video_reader(path)\n",
        "\n",
        "          self.training_data.append([np.array(vid), np.eye(2)[self.LABELS[label]]])\n",
        "\n",
        "          # Label counter\n",
        "          if label == self.NVIO:\n",
        "            self.nviocount += 1\n",
        "          elif label == self.VIO:\n",
        "            self.viocount += 1\n",
        "        except Exception as e:\n",
        "          pass\n",
        "\n",
        "    # Shuffle data\n",
        "    np.random.shuffle(self.training_data)\n",
        "    print(\"\\n\")\n",
        "    print(f\"NVIO : {self.nviocount}\")\n",
        "    print(f\"VIO  : {self.viocount}\")\n",
        "    \n",
        "    return self.training_data"
      ],
      "execution_count": 5,
      "outputs": []
    },
    {
      "cell_type": "code",
      "metadata": {
        "colab": {
          "base_uri": "https://localhost:8080/",
          "height": 271,
          "referenced_widgets": [
            "bc85cc25acf4492da0f442006cca199c",
            "815b5d473f2e4a0db8a99f468656072d",
            "36025870375648998b090a4ec2cd7ab3",
            "1bb0ec5237644bf6b1cddafe5f1495ef",
            "d679f134c87541bbae364de5c9fdd6cc",
            "6139750fb5454880a0d0d0e18788e315",
            "8f981261580e4b3680fc4f59f57e9a60",
            "c9538cef68e4461daf2af9a5d9c8e9d3",
            "1cb43a3d5081462e94e6303ce727b4cf",
            "0120a2a8c7434bd1a658a3c3a830daeb",
            "8f8df40be52b4d118aded24b294eb2d9",
            "6ae03d36c1bb4e32b2fa80a51c36fc02",
            "4a7753acceb94228a78fc45e047a4dd8",
            "7e686b28a2ed47ff9616c9d08957a283",
            "6d90fabd5f364bbdb22e5a4f432edf87",
            "4afc78c465a646bc972b4c7b6d8f8d75"
          ]
        },
        "id": "JWQfvidpg992",
        "outputId": "4ccdbeed-2a8c-4ef8-bef0-d77b7e90e792"
      },
      "source": [
        "dset = ViolenceDataset()\n",
        "trainset = dset.training_maker()"
      ],
      "execution_count": 6,
      "outputs": [
        {
          "output_type": "stream",
          "text": [
            "/content/rs80/non_violence\n"
          ],
          "name": "stdout"
        },
        {
          "output_type": "display_data",
          "data": {
            "application/vnd.jupyter.widget-view+json": {
              "model_id": "bc85cc25acf4492da0f442006cca199c",
              "version_minor": 0,
              "version_major": 2
            },
            "text/plain": [
              "HBox(children=(FloatProgress(value=0.0, max=1000.0), HTML(value='')))"
            ]
          },
          "metadata": {
            "tags": []
          }
        },
        {
          "output_type": "stream",
          "text": [
            "/usr/local/lib/python3.7/dist-packages/ipykernel_launcher.py:15: VisibleDeprecationWarning: Creating an ndarray from ragged nested sequences (which is a list-or-tuple of lists-or-tuples-or ndarrays with different lengths or shapes) is deprecated. If you meant to do this, you must specify 'dtype=object' when creating the ndarray\n",
            "  from ipykernel import kernelapp as app\n"
          ],
          "name": "stderr"
        },
        {
          "output_type": "stream",
          "text": [
            "\n",
            "/content/rs80/violence\n"
          ],
          "name": "stdout"
        },
        {
          "output_type": "display_data",
          "data": {
            "application/vnd.jupyter.widget-view+json": {
              "model_id": "1cb43a3d5081462e94e6303ce727b4cf",
              "version_minor": 0,
              "version_major": 2
            },
            "text/plain": [
              "HBox(children=(FloatProgress(value=0.0, max=1000.0), HTML(value='')))"
            ]
          },
          "metadata": {
            "tags": []
          }
        },
        {
          "output_type": "stream",
          "text": [
            "\n",
            "\n",
            "\n",
            "NVIO : 1000\n",
            "VIO  : 1000\n"
          ],
          "name": "stdout"
        }
      ]
    },
    {
      "cell_type": "code",
      "metadata": {
        "colab": {
          "base_uri": "https://localhost:8080/",
          "height": 484
        },
        "id": "VKjEDL2_hAIP",
        "outputId": "c651948f-2002-42a9-8830-e460298e7ede"
      },
      "source": [
        "plt.figure(figsize=(15,8))\n",
        "plt.imshow(trainset[0][0][0])\n",
        "plt.show()"
      ],
      "execution_count": 7,
      "outputs": [
        {
          "output_type": "display_data",
          "data": {
            "image/png": "[encoded data removed]",
            "text/plain": [
              "<Figure size 1080x576 with 1 Axes>"
            ]
          },
          "metadata": {
            "tags": [],
            "needs_background": "light"
          }
        }
      ]
    },
    {
      "cell_type": "code",
      "metadata": {
        "colab": {
          "base_uri": "https://localhost:8080/"
        },
        "id": "qtvzORBHhEF_",
        "outputId": "c52269ed-1f37-444e-b86e-e608d8a5a894"
      },
      "source": [
        "effb0 = keras.applications.efficientnet.EfficientNetB0(include_top=False, input_shape=(80, 80, 3))"
      ],
      "execution_count": 8,
      "outputs": [
        {
          "output_type": "stream",
          "text": [
            "Downloading data from https://storage.googleapis.com/keras-applications/efficientnetb0_notop.h5\n",
            "16711680/16705208 [==============================] - 0s 0us/step\n"
          ],
          "name": "stdout"
        }
      ]
    },
    {
      "cell_type": "code",
      "metadata": {
        "colab": {
          "base_uri": "https://localhost:8080/",
          "height": 120,
          "referenced_widgets": [
            "e1b266d5fb89494283ae3455d5f760e8",
            "567a55743a104802a3a66ebde24e6293",
            "32014b6f39f04801aa108fb492c9a08f",
            "80ba52fc5c9241e3a4e1382f0a741da4",
            "30abe6f2ebd84300b61376e375322824",
            "3ff79b1e88d644f28c017e2de1208754",
            "90511dcb94764b52a7945b1a639a8956",
            "e94614c0e9644d3082859d9edd9742a2"
          ]
        },
        "id": "lHaqIVIdhHpz",
        "outputId": "ba0b35a2-ad35-4f4e-a290-846f90d6f7fe"
      },
      "source": [
        "# Index counter\n",
        "counter = 0\n",
        "\n",
        "# Loop over dataset \n",
        "for idx in tqdm(range(len(trainset))):\n",
        "  sequence = []\n",
        "\n",
        "  # Loop over video data\n",
        "  for frame in trainset[idx][0]:\n",
        "    try:\n",
        "      # Reshape frame for eff0\n",
        "      frame = frame.reshape((1, 80, 80, 3))\n",
        "\n",
        "      # Take eff0 output\n",
        "      prediction = effb0.predict(frame)\n",
        "      #print(prediction.shape)\n",
        "      # Reshape output for lstm\n",
        "      prediction = prediction.reshape((1,3, 3, 1280))\n",
        "\n",
        "      # Add prediction to sequence list\n",
        "      sequence.append(prediction)\n",
        "    except:\n",
        "      pass\n",
        "  \n",
        "  # Change list type to numpy array\n",
        "  sequence = np.array(sequence)\n",
        "\n",
        "  # Save output for later usage\n",
        "  np.save(f\"extra/video-{counter}.npy\", [sequence, trainset[idx][1]])\n",
        "  counter += 1"
      ],
      "execution_count": 9,
      "outputs": [
        {
          "output_type": "display_data",
          "data": {
            "application/vnd.jupyter.widget-view+json": {
              "model_id": "e1b266d5fb89494283ae3455d5f760e8",
              "version_minor": 0,
              "version_major": 2
            },
            "text/plain": [
              "HBox(children=(FloatProgress(value=0.0, max=2000.0), HTML(value='')))"
            ]
          },
          "metadata": {
            "tags": []
          }
        },
        {
          "output_type": "stream",
          "text": [
            "/usr/local/lib/python3.7/dist-packages/numpy/core/_asarray.py:136: VisibleDeprecationWarning: Creating an ndarray from ragged nested sequences (which is a list-or-tuple of lists-or-tuples-or ndarrays with different lengths or shapes) is deprecated. If you meant to do this, you must specify 'dtype=object' when creating the ndarray\n",
            "  return array(a, dtype, copy=False, order=order, subok=True)\n"
          ],
          "name": "stderr"
        },
        {
          "output_type": "stream",
          "text": [
            "\n"
          ],
          "name": "stdout"
        }
      ]
    },
    {
      "cell_type": "code",
      "metadata": {
        "id": "aRQMbNaHgOp9"
      },
      "source": [
        "del sequence\n",
        "del trainset"
      ],
      "execution_count": 10,
      "outputs": []
    },
    {
      "cell_type": "code",
      "metadata": {
        "id": "v1hlGCpAhRCO"
      },
      "source": [
        "data_paths = os.listdir(\"/content/extra\")"
      ],
      "execution_count": 11,
      "outputs": []
    },
    {
      "cell_type": "code",
      "metadata": {
        "colab": {
          "base_uri": "https://localhost:8080/",
          "height": 134,
          "referenced_widgets": [
            "f9254aa318b443429c148bad5842d28c",
            "744025be3ab6461faf4daf5415dc1e88",
            "eb0fa63161004552a1c4f340922b797a",
            "22feeca419c54cb382b6adc9a0552e18",
            "cf88533b2f54457e869eec4cec30c4be",
            "58b0cdb25556451383b9eae9100e491a",
            "839698c6da0847e796436f3330156c00",
            "3b8aa5d05f8643cf9ba09880fc35edfd"
          ]
        },
        "id": "r6iZVFTRhTI2",
        "outputId": "072eae77-0975-4f4e-d2c2-f495bb871f7a"
      },
      "source": [
        "# Create label and features\n",
        "data_x = []\n",
        "data_y = []\n",
        "\n",
        "# Loop over folder\n",
        "for i in tqdm(data_paths):\n",
        "  \n",
        "  # Load saved data\n",
        "  temp_data = np.load(\"/content/extra/\" + i, allow_pickle=True)\n",
        "  \n",
        "  # if frames more than 34\n",
        "  if temp_data[0].shape[0] >= 34:\n",
        "\n",
        "    # Add videos' first 100 frames to list\n",
        "    data_x.append(temp_data[0][0:34])\n",
        "\n",
        "    # Take label\n",
        "    data_y.append(temp_data[1])\n",
        "\n",
        "# Change list to numpy array\n",
        "data_x = np.array(data_x)\n",
        "data_y = np.array(data_y)\n",
        "\n",
        "print(\"\\n\")\n",
        "print(f\"X len : {len(data_x)}\")\n",
        "print(f\"Y len : {len(data_y)}\")"
      ],
      "execution_count": 12,
      "outputs": [
        {
          "output_type": "display_data",
          "data": {
            "application/vnd.jupyter.widget-view+json": {
              "model_id": "f9254aa318b443429c148bad5842d28c",
              "version_minor": 0,
              "version_major": 2
            },
            "text/plain": [
              "HBox(children=(FloatProgress(value=0.0, max=2000.0), HTML(value='')))"
            ]
          },
          "metadata": {
            "tags": []
          }
        },
        {
          "output_type": "stream",
          "text": [
            "\n",
            "\n",
            "\n",
            "X len : 1857\n",
            "Y len : 1857\n"
          ],
          "name": "stdout"
        }
      ]
    },
    {
      "cell_type": "code",
      "metadata": {
        "id": "2quY9KOos1XA"
      },
      "source": [
        "!rm -r extra"
      ],
      "execution_count": 13,
      "outputs": []
    },
    {
      "cell_type": "code",
      "metadata": {
        "id": "DDP_ok9LhVOu"
      },
      "source": [
        "#data_x = [i for i in data_x]"
      ],
      "execution_count": 14,
      "outputs": []
    },
    {
      "cell_type": "code",
      "metadata": {
        "colab": {
          "base_uri": "https://localhost:8080/"
        },
        "id": "a0wo_r6ohXZe",
        "outputId": "348ba76c-54fe-4915-cbef-196cde7cf294"
      },
      "source": [
        "data_x.shape"
      ],
      "execution_count": 15,
      "outputs": [
        {
          "output_type": "execute_result",
          "data": {
            "text/plain": [
              "(1857, 34, 1, 3, 3, 1280)"
            ]
          },
          "metadata": {
            "tags": []
          },
          "execution_count": 15
        }
      ]
    },
    {
      "cell_type": "code",
      "metadata": {
        "id": "WOfBIu4VhaIa"
      },
      "source": [
        "x_train, x_test, y_train, y_test = train_test_split(data_x, data_y, test_size=0.25, random_state=42)"
      ],
      "execution_count": 16,
      "outputs": []
    },
    {
      "cell_type": "code",
      "metadata": {
        "id": "IfSayX44scFP"
      },
      "source": [
        "del data_x\n",
        "del data_y"
      ],
      "execution_count": 17,
      "outputs": []
    },
    {
      "cell_type": "code",
      "metadata": {
        "id": "kSbbIYu1hame"
      },
      "source": [
        "def build_efflstm():\n",
        "  model = keras.models.Sequential([keras.layers.Reshape(target_shape=((34, -1)), input_shape=(34, 1, 3, 3, 1280)),\n",
        "                                   keras.layers.LSTM(100, recurrent_dropout=0.1),\n",
        "\n",
        "                                   keras.layers.Dense(512, activation='relu'),\n",
        "                                   keras.layers.Dropout(0.3),\n",
        "\n",
        "                                   keras.layers.Dense(2, activation='sigmoid')\n",
        "  ])\n",
        "\n",
        "  return model\n",
        "\n",
        "eff0_lstm = build_efflstm()\n",
        "\n",
        "eff0_lstm.compile(optimizer='adam', loss='binary_crossentropy', metrics=['accuracy'])"
      ],
      "execution_count": 18,
      "outputs": []
    },
    {
      "cell_type": "code",
      "metadata": {
        "colab": {
          "base_uri": "https://localhost:8080/"
        },
        "id": "47MP4thnC8W0",
        "outputId": "809e3ca0-25f9-4071-8cbf-cff43553375d"
      },
      "source": [
        "x_train[0].shape"
      ],
      "execution_count": 19,
      "outputs": [
        {
          "output_type": "execute_result",
          "data": {
            "text/plain": [
              "(34, 1, 3, 3, 1280)"
            ]
          },
          "metadata": {
            "tags": []
          },
          "execution_count": 19
        }
      ]
    },
    {
      "cell_type": "code",
      "metadata": {
        "colab": {
          "base_uri": "https://localhost:8080/"
        },
        "id": "DrCoOENPheBt",
        "outputId": "cd10e18f-a3ae-4caa-dfcb-548531d41961"
      },
      "source": [
        "hist_eff0 = eff0_lstm.fit(x_train, y_train, epochs=10, validation_split=0.25)"
      ],
      "execution_count": 20,
      "outputs": [
        {
          "output_type": "stream",
          "text": [
            "Epoch 1/10\n",
            "33/33 [==============================] - 56s 2s/step - loss: 0.4415 - accuracy: 0.8103 - val_loss: 0.3236 - val_accuracy: 0.8621\n",
            "Epoch 2/10\n",
            "33/33 [==============================] - 56s 2s/step - loss: 0.1870 - accuracy: 0.9339 - val_loss: 0.2744 - val_accuracy: 0.8851\n",
            "Epoch 3/10\n",
            "33/33 [==============================] - 53s 2s/step - loss: 0.1122 - accuracy: 0.9636 - val_loss: 0.2519 - val_accuracy: 0.8908\n",
            "Epoch 4/10\n",
            "33/33 [==============================] - 53s 2s/step - loss: 0.0503 - accuracy: 0.9818 - val_loss: 0.3156 - val_accuracy: 0.8994\n",
            "Epoch 5/10\n",
            "33/33 [==============================] - 61s 2s/step - loss: 0.0179 - accuracy: 0.9971 - val_loss: 0.2479 - val_accuracy: 0.9253\n",
            "Epoch 6/10\n",
            "33/33 [==============================] - 56s 2s/step - loss: 0.0059 - accuracy: 0.9981 - val_loss: 0.2577 - val_accuracy: 0.9195\n",
            "Epoch 7/10\n",
            "33/33 [==============================] - 54s 2s/step - loss: 0.0030 - accuracy: 0.9990 - val_loss: 0.2962 - val_accuracy: 0.9253\n",
            "Epoch 8/10\n",
            "33/33 [==============================] - 59s 2s/step - loss: 0.0023 - accuracy: 0.9981 - val_loss: 0.2904 - val_accuracy: 0.9195\n",
            "Epoch 9/10\n",
            "33/33 [==============================] - 58s 2s/step - loss: 0.0027 - accuracy: 0.9981 - val_loss: 0.2947 - val_accuracy: 0.9224\n",
            "Epoch 10/10\n",
            "33/33 [==============================] - 55s 2s/step - loss: 0.0024 - accuracy: 0.9981 - val_loss: 0.3045 - val_accuracy: 0.9195\n"
          ],
          "name": "stdout"
        }
      ]
    },
    {
      "cell_type": "code",
      "metadata": {
        "id": "CanH3-KThlCW",
        "colab": {
          "base_uri": "https://localhost:8080/"
        },
        "outputId": "6b62b165-2f5c-48bc-d082-3c564beb15d6"
      },
      "source": [
        "eff0_lstm.evaluate(x_test, y_test)"
      ],
      "execution_count": 21,
      "outputs": [
        {
          "output_type": "stream",
          "text": [
            "15/15 [==============================] - 8s 558ms/step - loss: 0.5455 - accuracy: 0.8882\n"
          ],
          "name": "stdout"
        },
        {
          "output_type": "execute_result",
          "data": {
            "text/plain": [
              "[0.5454533696174622, 0.8881720304489136]"
            ]
          },
          "metadata": {
            "tags": []
          },
          "execution_count": 21
        }
      ]
    },
    {
      "cell_type": "code",
      "metadata": {
        "id": "3mGa8TlThmEA",
        "colab": {
          "base_uri": "https://localhost:8080/",
          "height": 513
        },
        "outputId": "eb29a7c1-ec12-4722-e54f-21abfa9b8096"
      },
      "source": [
        "# Plot train and validation accuracy\n",
        "plt.figure(figsize=(15,8))\n",
        "plt.plot(hist_eff0.history['accuracy'])\n",
        "plt.text(9.2, hist_eff0.history['accuracy'][-1], str(round(hist_eff0.history['accuracy'][-1], 2)))\n",
        "plt.plot(hist_eff0.history['val_accuracy'])\n",
        "plt.text(9.2, hist_eff0.history['val_accuracy'][-1], str(round(hist_eff0.history['val_accuracy'][-1], 2)))\n",
        "\n",
        "plt.title('Model Accuracy')\n",
        "plt.legend(['Train', 'Validation'], loc='lower right')\n",
        "plt.grid()\n",
        "plt.xlim((0,10))\n",
        "plt.ylim((0,1.1))\n",
        "plt.ylabel('accuracy')\n",
        "plt.xlabel('epoch')\n",
        "plt.show()"
      ],
      "execution_count": 22,
      "outputs": [
        {
          "output_type": "display_data",
          "data": {
            "image/png": "[encoded data removed]",
            "text/plain": [
              "<Figure size 1080x576 with 1 Axes>"
            ]
          },
          "metadata": {
            "tags": [],
            "needs_background": "light"
          }
        }
      ]
    }
  ]
}
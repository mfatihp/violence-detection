{
  "nbformat": 4,
  "nbformat_minor": 0,
  "metadata": {
    "colab": {
      "name": "ConvLstm.ipynb",
      "provenance": [],
      "collapsed_sections": [],
      "authorship_tag": "ABX9TyML9y7QkW9cwk0p+CPtjp2H"
    },
    "kernelspec": {
      "name": "python3",
      "display_name": "Python 3"
    },
    "accelerator": "GPU"
  },
  "cells": [
    {
      "cell_type": "markdown",
      "metadata": {
        "id": "KZXBz7VKGCRz"
      },
      "source": [
        "# **Violence Detection with ConvLSTM**"
      ]
    },
    {
      "cell_type": "markdown",
      "metadata": {
        "id": "bn9OWTr2GMt3"
      },
      "source": [
        "- Dataset : Real Life Violence Situations Dataset\n",
        "- Link    : https://www.kaggle.com/mohamedmustafa/real-life-violence-situations-dataset\n",
        "\n",
        "Preprocessing was made on videos."
      ]
    },
    {
      "cell_type": "markdown",
      "metadata": {
        "id": "NTP-ipWDJ2g-"
      },
      "source": [
        "- Video Length : 100 frames\n",
        "\n",
        "- Frame Sizes : 80 x 80\n",
        "\n",
        "- Channels : 3 (RGB)\n",
        "\n",
        "- ConvNet : VGG19"
      ]
    },
    {
      "cell_type": "code",
      "metadata": {
        "id": "Bf81xO7p1H_I",
        "outputId": "edce98cc-b2c3-4045-f949-4d27b4c483df",
        "colab": {
          "base_uri": "https://localhost:8080/"
        }
      },
      "source": [
        "!nvidia-smi"
      ],
      "execution_count": null,
      "outputs": [
        {
          "output_type": "stream",
          "text": [
            "Mon Nov  9 13:15:04 2020       \n",
            "+-----------------------------------------------------------------------------+\n",
            "| NVIDIA-SMI 455.32.00    Driver Version: 418.67       CUDA Version: 10.1     |\n",
            "|-------------------------------+----------------------+----------------------+\n",
            "| GPU  Name        Persistence-M| Bus-Id        Disp.A | Volatile Uncorr. ECC |\n",
            "| Fan  Temp  Perf  Pwr:Usage/Cap|         Memory-Usage | GPU-Util  Compute M. |\n",
            "|                               |                      |               MIG M. |\n",
            "|===============================+======================+======================|\n",
            "|   0  Tesla K80           Off  | 00000000:00:04.0 Off |                    0 |\n",
            "| N/A   41C    P0    58W / 149W |   3563MiB / 11441MiB |      0%      Default |\n",
            "|                               |                      |                 ERR! |\n",
            "+-------------------------------+----------------------+----------------------+\n",
            "                                                                               \n",
            "+-----------------------------------------------------------------------------+\n",
            "| Processes:                                                                  |\n",
            "|  GPU   GI   CI        PID   Type   Process name                  GPU Memory |\n",
            "|        ID   ID                                                   Usage      |\n",
            "|=============================================================================|\n",
            "|  No running processes found                                                 |\n",
            "+-----------------------------------------------------------------------------+\n"
          ],
          "name": "stdout"
        }
      ]
    },
    {
      "cell_type": "code",
      "metadata": {
        "id": "6-vddiQ71RiA"
      },
      "source": [
        "from tensorflow.keras.applications import VGG19\n",
        "from tensorflow import keras\n",
        "from tensorflow.keras.layers import Input\n",
        "\n",
        "from sklearn.model_selection import train_test_split\n",
        "\n",
        "import matplotlib.pyplot as plt\n",
        "import numpy as np\n",
        "import cv2 as cv\n",
        "import os\n",
        "\n",
        "from tqdm import tqdm"
      ],
      "execution_count": null,
      "outputs": []
    },
    {
      "cell_type": "code",
      "metadata": {
        "id": "EFiLJ7sI1dny"
      },
      "source": [
        "# Video reader function\n",
        "def video_reader(x, end_frame=100):\n",
        "  cap = cv.VideoCapture(x)\n",
        "  output = []\n",
        "\n",
        "  # Frame counter\n",
        "  frame_num = 0\n",
        "\n",
        "  # Loop over video\n",
        "  while True:\n",
        "\n",
        "    # Read frame\n",
        "    ret, frame = cap.read()\n",
        "\n",
        "    # Break condition\n",
        "    if (ret == None) or (frame_num == end_frame):\n",
        "      break\n",
        "    \n",
        "    # Add frame to output list\n",
        "    output.append(frame)\n",
        "    \n",
        "    frame_num += 1\n",
        "  \n",
        "  # Change list type to numpy array\n",
        "  output = np.array(output)\n",
        "\n",
        "  return output"
      ],
      "execution_count": null,
      "outputs": []
    },
    {
      "cell_type": "code",
      "metadata": {
        "id": "6tvWOP8Y1ise"
      },
      "source": [
        "# Data Loader\n",
        "class ViolenceDataset():\n",
        "  NVIO = \"/content/rs80/non_violence\"\n",
        "  VIO = \"/content/rs80/violence\"\n",
        "  LABELS = {NVIO : 0, VIO : 1}\n",
        "\n",
        "  training_data = []\n",
        "  viocount = 0\n",
        "  nviocount = 0\n",
        "\n",
        "  # Training set maker func\n",
        "  def training_maker(self):\n",
        "    # Loop over each label\n",
        "    for label in self.LABELS:\n",
        "      print(label)\n",
        "      # Loop over label folder\n",
        "      for f in tqdm(os.listdir(label)):\n",
        "        try:\n",
        "          path = os.path.join(label, f)\n",
        "          # Video reader\n",
        "          vid = video_reader(path)\n",
        "\n",
        "          self.training_data.append([np.array(vid), np.eye(2)[self.LABELS[label]]])\n",
        "\n",
        "          # Label counter\n",
        "          if label == self.NVIO:\n",
        "            self.nviocount += 1\n",
        "          elif label == self.VIO:\n",
        "            self.viocount += 1\n",
        "        except Exception as e:\n",
        "          pass\n",
        "\n",
        "    # Shuffle data\n",
        "    np.random.shuffle(self.training_data)\n",
        "    print(\"\\n\")\n",
        "    print(f\"NVIO : {self.nviocount}\")\n",
        "    print(f\"VIO  : {self.viocount}\")\n",
        "    \n",
        "    return self.training_data"
      ],
      "execution_count": null,
      "outputs": []
    },
    {
      "cell_type": "code",
      "metadata": {
        "id": "bE9VJI301qL-",
        "outputId": "4b23bb93-75de-46cd-e0d1-347b73b4a367",
        "colab": {
          "base_uri": "https://localhost:8080/"
        }
      },
      "source": [
        "dset = ViolenceDataset()\n",
        "trainset = dset.training_maker()"
      ],
      "execution_count": null,
      "outputs": [
        {
          "output_type": "stream",
          "text": [
            "  0%|          | 5/1000 [00:00<00:20, 48.52it/s]"
          ],
          "name": "stderr"
        },
        {
          "output_type": "stream",
          "text": [
            "/content/rs80/non_violence\n"
          ],
          "name": "stdout"
        },
        {
          "output_type": "stream",
          "text": [
            "100%|██████████| 1000/1000 [00:15<00:00, 66.50it/s]\n",
            "  1%|          | 9/1000 [00:00<00:12, 81.47it/s]"
          ],
          "name": "stderr"
        },
        {
          "output_type": "stream",
          "text": [
            "/content/rs80/violence\n"
          ],
          "name": "stdout"
        },
        {
          "output_type": "stream",
          "text": [
            "100%|██████████| 1000/1000 [00:12<00:00, 82.12it/s]"
          ],
          "name": "stderr"
        },
        {
          "output_type": "stream",
          "text": [
            "\n",
            "\n",
            "NVIO : 1000\n",
            "VIO  : 1000\n"
          ],
          "name": "stdout"
        },
        {
          "output_type": "stream",
          "text": [
            "\n"
          ],
          "name": "stderr"
        }
      ]
    },
    {
      "cell_type": "code",
      "metadata": {
        "id": "5gRFZlxc1t1g",
        "outputId": "12549169-f254-4f70-df0e-4b7bdd866e17",
        "colab": {
          "base_uri": "https://localhost:8080/",
          "height": 484
        }
      },
      "source": [
        "plt.figure(figsize=(15,8))\n",
        "plt.imshow(trainset[0][0][0])\n",
        "plt.show()"
      ],
      "execution_count": null,
      "outputs": [
        {
          "output_type": "display_data",
          "data": {
            "image/png": "[encoded data removed]",
            "text/plain": [
              "<Figure size 1080x576 with 1 Axes>"
            ]
          },
          "metadata": {
            "tags": [],
            "needs_background": "light"
          }
        }
      ]
    },
    {
      "cell_type": "code",
      "metadata": {
        "id": "m5qc5X0BZ49r",
        "outputId": "2b79d692-8230-4918-8dec-ae064740e576",
        "colab": {
          "base_uri": "https://localhost:8080/"
        }
      },
      "source": [
        "print(f\"Non-Violence : [1 0]\")\n",
        "print(f\"Violence     : [0 1]\")\n",
        "print(\"\\n\")\n",
        "print(f\"Label : {trainset[0][1]}\")"
      ],
      "execution_count": null,
      "outputs": [
        {
          "output_type": "stream",
          "text": [
            "Non-Violence : [1 0]\n",
            "Violence     : [0 1]\n",
            "\n",
            "\n",
            "Label : [0. 1.]\n"
          ],
          "name": "stdout"
        }
      ]
    },
    {
      "cell_type": "code",
      "metadata": {
        "id": "EpIjudBi1zsX"
      },
      "source": [
        "# Load pre-trained VGG19 network\n",
        "vgg19 = VGG19(weights='imagenet', include_top=False, input_tensor=Input(shape=(80,80,3)))"
      ],
      "execution_count": null,
      "outputs": []
    },
    {
      "cell_type": "code",
      "metadata": {
        "id": "RreOzo4f17RY",
        "outputId": "71a482e2-be2d-4ced-bbc7-1b43e526a052",
        "colab": {
          "base_uri": "https://localhost:8080/"
        }
      },
      "source": [
        "# Index counter\n",
        "counter = 0\n",
        "\n",
        "# Loop over dataset \n",
        "for idx in tqdm(range(len(trainset))):\n",
        "  sequence = []\n",
        "\n",
        "  # Loop over video data\n",
        "  for frame in trainset[idx][0]:\n",
        "    try:\n",
        "      # Reshape frame for vgg19\n",
        "      frame = frame.reshape((1, 80, 80, 3))\n",
        "\n",
        "      # Take vgg19 output\n",
        "      prediction = vgg19.predict(frame)\n",
        "      \n",
        "      # Reshape output for lstm\n",
        "      prediction = prediction.reshape((1,2048))\n",
        "\n",
        "      # Add prediction to sequence list\n",
        "      sequence.append(prediction)\n",
        "    except:\n",
        "      pass\n",
        "  \n",
        "  # Change list type to numpy array\n",
        "  sequence = np.array(sequence)\n",
        "\n",
        "  # Save output for later usage\n",
        "  np.save(f\"processed/video-{counter}.npy\", [sequence, trainset[idx][1]])\n",
        "  counter += 1"
      ],
      "execution_count": null,
      "outputs": [
        {
          "output_type": "stream",
          "text": [
            "100%|██████████| 2000/2000 [2:51:40<00:00,  5.15s/it]\n"
          ],
          "name": "stderr"
        }
      ]
    },
    {
      "cell_type": "code",
      "metadata": {
        "id": "PQr3jAMY2MiJ",
        "outputId": "db4e15b2-90ad-4659-e884-555b7348e5b2",
        "colab": {
          "base_uri": "https://localhost:8080/"
        }
      },
      "source": [
        "# Choose only files\n",
        "data_paths = [i for i in (os.path.join(\"/content/processed\", f) for f in os.listdir(\"/content/processed\")) if os.path.isfile(i)]\n",
        "len(data_paths)"
      ],
      "execution_count": null,
      "outputs": [
        {
          "output_type": "execute_result",
          "data": {
            "text/plain": [
              "2000"
            ]
          },
          "metadata": {
            "tags": []
          },
          "execution_count": 12
        }
      ]
    },
    {
      "cell_type": "code",
      "metadata": {
        "id": "f6UpfZF72Qvq",
        "outputId": "37dade06-4369-4fb3-d80f-4eb7f9f832d8",
        "colab": {
          "base_uri": "https://localhost:8080/"
        }
      },
      "source": [
        "# Create label and features\n",
        "data_x = []\n",
        "data_y = []\n",
        "\n",
        "# Loop over folder\n",
        "for i in tqdm(data_paths):\n",
        "  \n",
        "  # Load saved data\n",
        "  temp_data = np.load(i, allow_pickle=True)\n",
        "  \n",
        "  # if frames more than 100\n",
        "  if temp_data[0].shape[0] >= 100:\n",
        "\n",
        "    # Add videos' first 100 frames to list\n",
        "    data_x.append(temp_data[0][0:100])\n",
        "\n",
        "    # Take label\n",
        "    data_y.append(temp_data[1])\n",
        "\n",
        "# Change list to numpy array\n",
        "data_x = np.array(data_x)\n",
        "data_y = np.array(data_y)\n",
        "\n",
        "print(\"\\n\")\n",
        "print(f\"X len : {len(data_x)}\")\n",
        "print(f\"Y len : {len(data_y)}\")"
      ],
      "execution_count": null,
      "outputs": [
        {
          "output_type": "stream",
          "text": [
            "100%|██████████| 2000/2000 [00:02<00:00, 854.64it/s]\n"
          ],
          "name": "stderr"
        },
        {
          "output_type": "stream",
          "text": [
            "\n",
            "\n",
            "X len : 1857\n",
            "Y len : 1857\n"
          ],
          "name": "stdout"
        }
      ]
    },
    {
      "cell_type": "code",
      "metadata": {
        "id": "Mz5zOfnv2TwZ",
        "outputId": "5e631ecc-7f37-4a9d-b57c-920be6833465",
        "colab": {
          "base_uri": "https://localhost:8080/"
        }
      },
      "source": [
        "data_x.shape"
      ],
      "execution_count": null,
      "outputs": [
        {
          "output_type": "execute_result",
          "data": {
            "text/plain": [
              "(1857, 100, 1, 2048)"
            ]
          },
          "metadata": {
            "tags": []
          },
          "execution_count": 14
        }
      ]
    },
    {
      "cell_type": "code",
      "metadata": {
        "id": "l0_CZWps2XdR"
      },
      "source": [
        "# Reshape features for lstm\n",
        "data_x = data_x.reshape((1857, 100, 2048))"
      ],
      "execution_count": null,
      "outputs": []
    },
    {
      "cell_type": "code",
      "metadata": {
        "id": "_ZoU6duiPHzQ"
      },
      "source": [
        "x_train, x_test, y_train, y_test = train_test_split(data_x, data_y, test_size=0.25, random_state=42)"
      ],
      "execution_count": null,
      "outputs": []
    },
    {
      "cell_type": "code",
      "metadata": {
        "id": "w9D5qWy12Zb7"
      },
      "source": [
        "# LSTM Network\n",
        "def build_lstm():\n",
        "  model = keras.models.Sequential([\n",
        "                                   keras.layers.LSTM(100, input_shape=(100, 2048), recurrent_dropout=0.1),\n",
        "\n",
        "                                   keras.layers.Dense(512, activation='relu'),\n",
        "                                   keras.layers.Dropout(0.3),\n",
        "\n",
        "                                   keras.layers.Dense(2, activation='sigmoid')\n",
        "  ])\n",
        "\n",
        "  return model\n",
        "\n",
        "lstm = build_lstm()"
      ],
      "execution_count": null,
      "outputs": []
    },
    {
      "cell_type": "code",
      "metadata": {
        "id": "m483zYGA2dM6"
      },
      "source": [
        "# Compile the lstm model\n",
        "lstm.compile(optimizer='adam', loss='binary_crossentropy', metrics=['accuracy'])"
      ],
      "execution_count": null,
      "outputs": []
    },
    {
      "cell_type": "code",
      "metadata": {
        "id": "_85mjM4P2hoC",
        "outputId": "41d51b95-1c16-4549-d76a-d35992ca95bc",
        "colab": {
          "base_uri": "https://localhost:8080/"
        }
      },
      "source": [
        "lstm.summary()"
      ],
      "execution_count": null,
      "outputs": [
        {
          "output_type": "stream",
          "text": [
            "Model: \"sequential_1\"\n",
            "_________________________________________________________________\n",
            "Layer (type)                 Output Shape              Param #   \n",
            "=================================================================\n",
            "lstm_1 (LSTM)                (None, 100)               859600    \n",
            "_________________________________________________________________\n",
            "dense_2 (Dense)              (None, 512)               51712     \n",
            "_________________________________________________________________\n",
            "dropout_1 (Dropout)          (None, 512)               0         \n",
            "_________________________________________________________________\n",
            "dense_3 (Dense)              (None, 2)                 1026      \n",
            "=================================================================\n",
            "Total params: 912,338\n",
            "Trainable params: 912,338\n",
            "Non-trainable params: 0\n",
            "_________________________________________________________________\n"
          ],
          "name": "stdout"
        }
      ]
    },
    {
      "cell_type": "code",
      "metadata": {
        "id": "VRTOootG2iRa",
        "outputId": "3e2eadb1-8184-4f8a-bcd1-18c1d0f7b127",
        "colab": {
          "base_uri": "https://localhost:8080/"
        }
      },
      "source": [
        "# Train network\n",
        "hist = lstm.fit(x_train, y_train, epochs=10, validation_split=0.25)"
      ],
      "execution_count": null,
      "outputs": [
        {
          "output_type": "stream",
          "text": [
            "Epoch 1/10\n",
            "33/33 [==============================] - 16s 481ms/step - loss: 0.6313 - accuracy: 0.6370 - val_loss: 0.5223 - val_accuracy: 0.7586\n",
            "Epoch 2/10\n",
            "33/33 [==============================] - 15s 469ms/step - loss: 0.4040 - accuracy: 0.8266 - val_loss: 0.3574 - val_accuracy: 0.8534\n",
            "Epoch 3/10\n",
            "33/33 [==============================] - 16s 479ms/step - loss: 0.2517 - accuracy: 0.9013 - val_loss: 0.3655 - val_accuracy: 0.8477\n",
            "Epoch 4/10\n",
            "33/33 [==============================] - 16s 470ms/step - loss: 0.1717 - accuracy: 0.9349 - val_loss: 0.3645 - val_accuracy: 0.8477\n",
            "Epoch 5/10\n",
            "33/33 [==============================] - 16s 474ms/step - loss: 0.1043 - accuracy: 0.9684 - val_loss: 0.3058 - val_accuracy: 0.8707\n",
            "Epoch 6/10\n",
            "33/33 [==============================] - 15s 469ms/step - loss: 0.0631 - accuracy: 0.9818 - val_loss: 0.3619 - val_accuracy: 0.8793\n",
            "Epoch 7/10\n",
            "33/33 [==============================] - 15s 463ms/step - loss: 0.0337 - accuracy: 0.9923 - val_loss: 0.3924 - val_accuracy: 0.8534\n",
            "Epoch 8/10\n",
            "33/33 [==============================] - 16s 472ms/step - loss: 0.0195 - accuracy: 0.9971 - val_loss: 0.3428 - val_accuracy: 0.8879\n",
            "Epoch 9/10\n",
            "33/33 [==============================] - 15s 464ms/step - loss: 0.0103 - accuracy: 0.9981 - val_loss: 0.3470 - val_accuracy: 0.8937\n",
            "Epoch 10/10\n",
            "33/33 [==============================] - 15s 466ms/step - loss: 0.0118 - accuracy: 0.9962 - val_loss: 0.3727 - val_accuracy: 0.8851\n"
          ],
          "name": "stdout"
        }
      ]
    },
    {
      "cell_type": "code",
      "metadata": {
        "id": "zLYtowL02lBx",
        "outputId": "a1312e62-13db-4594-8e85-9c477be1f62f",
        "colab": {
          "base_uri": "https://localhost:8080/",
          "height": 513
        }
      },
      "source": [
        "# Plot train and validation accuracy\n",
        "plt.figure(figsize=(15,8))\n",
        "plt.plot(hist.history['accuracy'])\n",
        "plt.text(9.2, hist.history['accuracy'][-1], str(round(hist.history['accuracy'][-1], 2)))\n",
        "plt.plot(hist.history['val_accuracy'])\n",
        "plt.text(9.2, hist.history['val_accuracy'][-1], str(round(hist.history['val_accuracy'][-1], 2)))\n",
        "\n",
        "plt.title('Model Accuracy')\n",
        "plt.legend(['Train', 'Validation'], loc='lower right')\n",
        "plt.grid()\n",
        "plt.xlim((0,10))\n",
        "plt.ylim((0,1.1))\n",
        "plt.ylabel('accuracy')\n",
        "plt.xlabel('epoch')\n",
        "plt.show()"
      ],
      "execution_count": null,
      "outputs": [
        {
          "output_type": "display_data",
          "data": {
            "image/png": "[encoded data removed]",
            "text/plain": [
              "<Figure size 1080x576 with 1 Axes>"
            ]
          },
          "metadata": {
            "tags": [],
            "needs_background": "light"
          }
        }
      ]
    },
    {
      "cell_type": "code",
      "metadata": {
        "id": "ZTKPjHPM6TrI",
        "outputId": "ebe44bb6-8881-4add-e9e8-75fb1335e910",
        "colab": {
          "base_uri": "https://localhost:8080/"
        }
      },
      "source": [
        "# Test Accuracy\n",
        "lstm.evaluate(x_test, y_test)"
      ],
      "execution_count": null,
      "outputs": [
        {
          "output_type": "stream",
          "text": [
            "15/15 [==============================] - 1s 76ms/step - loss: 0.3595 - accuracy: 0.8839\n"
          ],
          "name": "stdout"
        },
        {
          "output_type": "execute_result",
          "data": {
            "text/plain": [
              "[0.35952526330947876, 0.8838709592819214]"
            ]
          },
          "metadata": {
            "tags": []
          },
          "execution_count": 27
        }
      ]
    }
  ]
}